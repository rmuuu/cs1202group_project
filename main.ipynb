    
class House:
    def __init__(self, area, occupants, consumption):
        self.area = area
        self.occupants = occupants
        self.consumption = consumption

    def get_base_consumption(self):
        return self.consumption

    def calculate_consumption(self, solar_panels, duration):
        base_consumption = self.get_base_consumption()
        if not solar_panels:
            return base_consumption * duration / (24 * 30) # assuming 24 hours in a day and 30 days in a month
        solar_output = sum([panel.get_output() for panel in solar_panels])
        consumption = base_consumption - solar_output
        consumption *= duration / (24 * 30) # assuming 24 hours in a day and 30 days in a month
    
        return consumption

class SolarPanel:
    # average efficiency of most used size of solar panel is 0.18
    def __init__(self, area):
        self.area = area
        self.efficiency = 0.15

    def get_output(self):
        return self.area * self.efficiency # assuming 1 kW per square meter

class GeneratedEnergy:
    def __init__(self, size, sun, solarenergy):
        self.size = size
        self.sun = sun
        self.efficiency = 0.15
        self.solarenergy = solarenergy
    
    def get_generated_energy(self):
        return self.size * 1000 * self.efficiency * self.sun
        
    def final_output(self):
        return self.get_generated_energy() / 1000

class Cloudy(GeneratedEnergy):
    def __init__(self, size, cloudy, solarenergy):
        self.cloudy = cloudy
        self.efficiency = 0.5 * 0.15 # solar panels normally generate 50 % of their optimum generation during cloudy days
        GeneratedEnergy.__init__(self, size, solarenergy)

    def get_generated_energy_cloudy(self):
        return self.size * self.efficiency * self.cloudy

class LightRain(GeneratedEnergy):
    def __init__(self, size, lightRain, solarenergy):
        self.lightrain = lightRain
        self.efficiency = 0.3 * 0.15 # solar panels normally generate 30 % of their optimum generation in light rain
        GeneratedEnergy.__init__(self, size, solarenergy)

    def get_generated_energy_light_rain(self):
        return self.size * self.efficiency * self.lightrain
    
class HeavyRain(GeneratedEnergy):
    def __init__(self, size, heavyRain, solarenergy):
        self.heavyrain = heavyRain
        self.efficiency = 0.2 * 0.15 # solar panels normally generate 20 % of their optimum generation in heavy rain
        GeneratedEnergy.__init__(self, size, solarenergy)

    def get_generated_energy_heavy_rain(self):
        return self.size * self.efficiency * self.cloudy
    
def get_float_input(prompt):
    while True:
        try:
            value = float(input(prompt))
            return value
        except ValueError:
            print("Invalid input. Please enter a valid number.")

def get_int_input(prompt):
    while True:
        try:
            value = int(input(prompt))
            return value
        except ValueError:
            print("Invalid input. Please enter a valid integer.")

def get_duration_input(prompt):
    while True:
        duration_type = input(prompt)
        if duration_type.lower() in ['days', 'months', 'years']:
            return duration_type.lower()
        print("Invalid duration type. Please enter 'days', 'months', or 'years'.")

def get_duration_days_input(prompt, duration_type):
    while True:
        try:
            duration = input(prompt)
            if duration_type.lower() == 'days':
                return int(duration)
            elif duration_type.lower() == 'months':
                return int(duration * 30)
            elif duration_type.lower() == 'years':
                return int(duration * 30 * 12)
        except ValueError:
            print("Invalid input. Please enter a valid duration days.")


def display_energy_conservation_tips():
    print("********************************************************************************\n")
    print("Here are some ways to conserve energy and reduce your electricity consumption:")
    print("~ Use LED light bulbs instead of traditional incandescent bulbs.")
    print("~ Turn off lights and electronics when not in use.")
    print("~ Set your thermostat a few degrees lower in the winter and a few degrees higher in the summer.")
    print("~ Wash clothes in cold water instead of hot water.")
    print("~ Use a programmable thermostat to automatically adjust the temperature when you're away from home.")
    print("~ Install weather stripping around doors and windows to prevent drafts.")
    print("~ Unplug chargers and appliances when they're not in use.")
    print("~ Plant trees or install shading devices to block the sun's rays from hitting your home.")
    print("~ Seal air leaks in your home with caulking or weather stripping.")


def main():
    area = get_float_input("Enter the area of the house in square meters: ")
    occupants = get_int_input("Enter the number of occupants in the house: ")
    consumption = get_float_input("Enter the average energy consumption of the house in kilowatt-hours: ")
    has_solar_panels = ""
    while has_solar_panels.lower() not in ['y', 'n']:
        has_solar_panels = input("Do you have solar panels installed? (y/n): ")
        if has_solar_panels.lower() not in ['y', 'n']:
            print("Invalid input. Please enter 'Y' or 'y' or 'N' or 'n'.")
    if has_solar_panels.lower() == 'y':
        # code for when the user has solar panels
        num_panels = get_int_input("Enter the number of solar panels installed: ")
        sun_hours = get_float_input("Enter the number of sun hours in your area each day: ")
        panel_size = get_float_input("Enter the area of each solar panel in square meters: ")
        duration_type = get_duration_input("Enter the duration type (days, months, or years): ")
        duration = get_duration_days_input("Enter the duration: ", duration_type)
        
        generated_energy = GeneratedEnergy(panel_size, sun_hours, 0)
        generated_energy_cloudy = Cloudy(panel_size, cloudy_hours, 0)
        generated_energy_lightrain = LightRain(panel_size, lightrain_hours, 0)
        
        solarenergy = generated_energy.final_output() * duration / (24 * 30) # assuming 24 hours in a day and 30 days in a month

        house = House(area, occupants, consumption)

        solar_panels = []
        for i in range(num_panels):
            solar_panels.append(SolarPanel(panel_size))

        consumption_before = house.calculate_consumption([], duration)
        consumption_after = house.calculate_consumption(solar_panels, duration)

        savings = consumption_before - consumption_after
        print("The house consumed {:.2f} kWh of electricity in the specified duration before installing solar panels ".format(consumption_before))
        print("The installed solar panels generated {:.2f} kWh of solar energy output.". format(solarenergy))
        print("The house consumed {:.2f} kWh of electricity in the specified duration after installing solar panels.".format(consumption_after))
        print("The solar panels saved {:.2f} kWh of electricity in the specified duration.".format(savings))
    else:
        # code for when the user does not have solar panels
        avg_consumption = consumption / 30
        num_panels_needed = int(avg_consumption / 7)
        print("Based on your average consumption, it is recommended to install {} solar panels to cover 70% of your consumption.".format(num_panels_needed))
        savings = avg_consumption * num_panels_needed * 0.7
        print("If you install {} solar panels, you can potentially save {:.2f} kWh of electricity per month.".format(num_panels_needed, savings))

if __name__ == '__main__':
    main()
    display_energy_conservation_tips()
